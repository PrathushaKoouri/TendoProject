{
  "nbformat": 4,
  "nbformat_minor": 0,
  "metadata": {
    "colab": {
      "provenance": []
    },
    "kernelspec": {
      "name": "python3",
      "display_name": "Python 3"
    },
    "language_info": {
      "name": "python"
    }
  },
  "cells": [
    {
      "cell_type": "code",
      "execution_count": 4,
      "metadata": {
        "colab": {
          "base_uri": "https://localhost:8080/"
        },
        "id": "etE_8hK29CqG",
        "outputId": "4beb99df-632d-43fa-eef4-333b8fc2b519"
      },
      "outputs": [
        {
          "output_type": "stream",
          "name": "stdout",
          "text": [
            "Mounted at /content/gdrive\n"
          ]
        }
      ],
      "source": [
        "# mount the google drive to access its content.\n",
        "from google.colab import drive\n",
        "drive.mount('/content/gdrive',force_remount=True)\n"
      ]
    },
    {
      "cell_type": "code",
      "source": [
        "import warnings\n",
        "warnings.filterwarnings('ignore')"
      ],
      "metadata": {
        "id": "DdcmaCVPw4sY"
      },
      "execution_count": 5,
      "outputs": []
    },
    {
      "cell_type": "code",
      "source": [
        "!pip install pyspark"
      ],
      "metadata": {
        "colab": {
          "base_uri": "https://localhost:8080/"
        },
        "id": "d0uDx1DLrLN7",
        "outputId": "87142118-a9c4-4021-c886-69543b3a7ac2"
      },
      "execution_count": 6,
      "outputs": [
        {
          "output_type": "stream",
          "name": "stdout",
          "text": [
            "Requirement already satisfied: pyspark in /usr/local/lib/python3.10/dist-packages (3.4.1)\n",
            "Requirement already satisfied: py4j==0.10.9.7 in /usr/local/lib/python3.10/dist-packages (from pyspark) (0.10.9.7)\n"
          ]
        }
      ]
    },
    {
      "cell_type": "code",
      "source": [
        "# import libraries\n",
        "import pandas as pd\n",
        "from pyspark.sql import SparkSession\n",
        "from pyspark.sql.functions import sum, col, desc, avg, mean"
      ],
      "metadata": {
        "id": "GFr0_s3EFZbz"
      },
      "execution_count": 7,
      "outputs": []
    },
    {
      "cell_type": "code",
      "source": [
        "# read excel file\n",
        "fp = \"/content/gdrive/My Drive/Colab Notebooks/Tendo/Exercise Data.xlsx\"\n",
        "sheet_names = ['encounter_e1', 'lab_e1', 'medications_e1', 'patient_e1']\n",
        "\n",
        "encounter_e1 = pd.read_excel(fp, sheet_name=sheet_names[0])\n",
        "lab_e1 = pd.read_excel(fp, sheet_name=sheet_names[1])\n",
        "medications_e1 = pd.read_excel(fp, sheet_name=sheet_names[2])\n",
        "patient_e1 = pd.read_excel(fp, sheet_name=sheet_names[3])"
      ],
      "metadata": {
        "id": "7yDI8QE4lvDo"
      },
      "execution_count": 8,
      "outputs": []
    },
    {
      "cell_type": "code",
      "source": [
        "#Create PySpark SparkSession\n",
        "spark = SparkSession.builder \\\n",
        "    .master(\"local[1]\") \\\n",
        "    .appName(\"SparkByExamples.com\") \\\n",
        "    .getOrCreate()\n",
        "#Create PySpark DataFrame from Pandas\n",
        "sparkDF_encounter_e1=spark.createDataFrame(encounter_e1)\n",
        "sparkDF_encounter_e1.show()\n",
        "sparkDF_lab_e1=spark.createDataFrame(lab_e1)\n",
        "sparkDF_lab_e1.show()\n",
        "sparkDF_medications_e1=spark.createDataFrame(medications_e1)\n",
        "sparkDF_medications_e1.show()\n",
        "sparkDF_patient_e1=spark.createDataFrame(patient_e1)\n",
        "sparkDF_patient_e1.show()"
      ],
      "metadata": {
        "id": "MdcLjfQB0geW"
      },
      "execution_count": null,
      "outputs": []
    },
    {
      "cell_type": "code",
      "source": [
        "df = sparkDF_patient_e1.join(sparkDF_encounter_e1,['patientid']) \\\n",
        "                  .join(sparkDF_medications_e1,['patientid','encounterid']).groupBy(sparkDF_patient_e1.patientid,'Sex','Age','primary_care_provider','medication_simple_generic_name','dose_unit','admit_diagnosis') \\\n",
        "                  .agg(avg('minimum_dose').alias('avg_minimum_dose')).sort(desc(sparkDF_patient_e1.patientid))"
      ],
      "metadata": {
        "id": "2LTlk7nOKJAa"
      },
      "execution_count": 10,
      "outputs": []
    },
    {
      "cell_type": "code",
      "source": [
        "df.show(df.count(), False)"
      ],
      "metadata": {
        "id": "K0tp6-Y2WMo1"
      },
      "execution_count": null,
      "outputs": []
    },
    {
      "cell_type": "code",
      "source": [
        "from datetime import datetime\n",
        "filepath = \"/content/gdrive/My Drive/Colab Notebooks/Tendo/\"\n",
        "filename = r\"target_1_\" + datetime.now().strftime(\"%Y%m%d\") + \".txt\"\n",
        "df.toPandas().to_csv(filepath+filename, header=True, index=None, sep='|', mode='a', encoding = 'utf-8', quotechar='\"', line_terminator=\"\")"
      ],
      "metadata": {
        "id": "0C3cl2LrlJAs"
      },
      "execution_count": 12,
      "outputs": []
    }
  ]
}