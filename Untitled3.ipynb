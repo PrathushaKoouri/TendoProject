{
  "nbformat": 4,
  "nbformat_minor": 0,
  "metadata": {
    "colab": {
      "provenance": []
    },
    "kernelspec": {
      "name": "python3",
      "display_name": "Python 3"
    },
    "language_info": {
      "name": "python"
    }
  },
  "cells": [
    {
      "cell_type": "code",
      "execution_count": 3,
      "metadata": {
        "colab": {
          "base_uri": "https://localhost:8080/"
        },
        "id": "etE_8hK29CqG",
        "outputId": "f98e056c-c20d-4ac5-a64f-949dcb3383f0"
      },
      "outputs": [
        {
          "output_type": "stream",
          "name": "stdout",
          "text": [
            "Mounted at /content/gdrive\n"
          ]
        }
      ],
      "source": [
        "# mount the google drive to access its content.\n",
        "from google.colab import drive\n",
        "drive.mount('/content/gdrive',force_remount=True)\n"
      ]
    },
    {
      "cell_type": "code",
      "source": [
        "import warnings\n",
        "warnings.filterwarnings('ignore')"
      ],
      "metadata": {
        "id": "DdcmaCVPw4sY"
      },
      "execution_count": 4,
      "outputs": []
    },
    {
      "cell_type": "code",
      "source": [
        "!pip install pyspark"
      ],
      "metadata": {
        "colab": {
          "base_uri": "https://localhost:8080/"
        },
        "id": "d0uDx1DLrLN7",
        "outputId": "db08bacc-565d-4abe-a873-3acd61f299db"
      },
      "execution_count": 6,
      "outputs": [
        {
          "output_type": "stream",
          "name": "stdout",
          "text": [
            "Collecting pyspark\n",
            "  Downloading pyspark-3.4.1.tar.gz (310.8 MB)\n",
            "\u001b[2K     \u001b[90m━━━━━━━━━━━━━━━━━━━━━━━━━━━━━━━━━━━━━━━\u001b[0m \u001b[32m310.8/310.8 MB\u001b[0m \u001b[31m2.5 MB/s\u001b[0m eta \u001b[36m0:00:00\u001b[0m\n",
            "\u001b[?25h  Preparing metadata (setup.py) ... \u001b[?25l\u001b[?25hdone\n",
            "Requirement already satisfied: py4j==0.10.9.7 in /usr/local/lib/python3.10/dist-packages (from pyspark) (0.10.9.7)\n",
            "Building wheels for collected packages: pyspark\n",
            "  Building wheel for pyspark (setup.py) ... \u001b[?25l\u001b[?25hdone\n",
            "  Created wheel for pyspark: filename=pyspark-3.4.1-py2.py3-none-any.whl size=311285398 sha256=6843c8b2729e714d52d213b85088054f0a70bfef4782975fd0656e22a468994d\n",
            "  Stored in directory: /root/.cache/pip/wheels/0d/77/a3/ff2f74cc9ab41f8f594dabf0579c2a7c6de920d584206e0834\n",
            "Successfully built pyspark\n",
            "Installing collected packages: pyspark\n",
            "Successfully installed pyspark-3.4.1\n"
          ]
        }
      ]
    },
    {
      "cell_type": "code",
      "source": [
        "# read excel file\n",
        "import pandas as pd\n",
        "\n",
        "fp = \"/content/gdrive/My Drive/Colab Notebooks/Tendo/Exercise Data.xlsx\"\n",
        "\n",
        "sheet_names = ['encounter_e1', 'lab_e1', 'medications_e1', 'patient_e1']\n",
        "\n",
        "encounter_e1 = pd.read_excel(fp, sheet_name=sheet_names[0])\n",
        "lab_e1 = pd.read_excel(fp, sheet_name=sheet_names[1])\n",
        "medications_e1 = pd.read_excel(fp, sheet_name=sheet_names[2])\n",
        "patient_e1 = pd.read_excel(fp, sheet_name=sheet_names[3])"
      ],
      "metadata": {
        "id": "7yDI8QE4lvDo"
      },
      "execution_count": 7,
      "outputs": []
    },
    {
      "cell_type": "code",
      "source": [
        "from pyspark.sql import SparkSession\n",
        "from pyspark.sql.functions import sum, col, desc\n",
        "#Create PySpark SparkSession\n",
        "spark = SparkSession.builder \\\n",
        "    .master(\"local[1]\") \\\n",
        "    .appName(\"SparkByExamples.com\") \\\n",
        "    .getOrCreate()\n",
        "#Create PySpark DataFrame from Pandas\n",
        "sparkDF_encounter_e1=spark.createDataFrame(encounter_e1)\n",
        "sparkDF_encounter_e1.show()\n",
        "sparkDF_lab_e1=spark.createDataFrame(lab_e1)\n",
        "sparkDF_lab_e1.show()\n",
        "sparkDF_medications_e1=spark.createDataFrame(medications_e1)\n",
        "sparkDF_medications_e1.show()\n",
        "sparkDF_patient_e1=spark.createDataFrame(patient_e1)\n",
        "sparkDF_patient_e1.show()"
      ],
      "metadata": {
        "id": "MdcLjfQB0geW"
      },
      "execution_count": null,
      "outputs": []
    },
    {
      "cell_type": "code",
      "source": [
        "df = sparkDF_patient_e1.join(sparkDF_encounter_e1,['patientid']) \\\n",
        "                  .join(sparkDF_medications_e1,['patientid','encounterid']).select(sparkDF_patient_e1.patientid,'Sex','Age','primary_care_provider','medication_simple_generic_name','minimum_dose','dose_unit','admit_diagnosis') \\\n",
        "                  .sort(desc(sparkDF_patient_e1.patientid))"
      ],
      "metadata": {
        "id": "2LTlk7nOKJAa"
      },
      "execution_count": 9,
      "outputs": []
    },
    {
      "cell_type": "code",
      "source": [
        "df.show(df.count(), False)"
      ],
      "metadata": {
        "id": "K0tp6-Y2WMo1"
      },
      "execution_count": null,
      "outputs": []
    },
    {
      "cell_type": "code",
      "source": [
        "# import pyspark.sql.types as T\n",
        "\n",
        "# for col in df.columns:\n",
        "#      df = df.withColumn(col, df[col].cast(T.StringType()))\n",
        "# df.write.option(\"sep\",\"|\").option(\"header\",\"true\").text(filename)"
      ],
      "metadata": {
        "id": "Pel9z8kgjHPR"
      },
      "execution_count": 17,
      "outputs": []
    },
    {
      "cell_type": "code",
      "source": [
        "from datetime import datetime\n",
        "filepath = \"/content/gdrive/My Drive/Colab Notebooks/Tendo/\"\n",
        "filename = r\"target_1_\" + datetime.now().strftime(\"%Y%m%d\") + \".txt\"\n",
        "df.toPandas().to_csv(filepath+filename, header=True, index=None, sep='|', mode='a', encoding = 'utf-8', quotechar='\"', line_terminator=\"\")"
      ],
      "metadata": {
        "id": "0C3cl2LrlJAs"
      },
      "execution_count": 19,
      "outputs": []
    }
  ]
}