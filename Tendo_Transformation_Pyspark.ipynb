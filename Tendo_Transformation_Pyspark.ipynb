{
  "nbformat": 4,
  "nbformat_minor": 0,
  "metadata": {
    "colab": {
      "provenance": []
    },
    "kernelspec": {
      "name": "python3",
      "display_name": "Python 3"
    },
    "language_info": {
      "name": "python"
    }
  },
  "cells": [
    {
      "cell_type": "code",
      "execution_count": 4,
      "metadata": {
        "colab": {
          "base_uri": "https://localhost:8080/"
        },
        "id": "etE_8hK29CqG",
        "outputId": "4beb99df-632d-43fa-eef4-333b8fc2b519"
      },
      "outputs": [
        {
          "output_type": "stream",
          "name": "stdout",
          "text": [
            "Mounted at /content/gdrive\n"
          ]
        }
      ],
      "source": [
        "# mount the google drive to access its content.\n",
        "from google.colab import drive\n",
        "drive.mount('/content/gdrive',force_remount=True)\n"
      ]
    },
    {
      "cell_type": "code",
      "source": [
        "import warnings\n",
        "warnings.filterwarnings('ignore')"
      ],
      "metadata": {
        "id": "DdcmaCVPw4sY"
      },
      "execution_count": 5,
      "outputs": []
    },
    {
      "cell_type": "code",
      "source": [
        "!pip install pyspark"
      ],
      "metadata": {
        "colab": {
          "base_uri": "https://localhost:8080/"
        },
        "id": "d0uDx1DLrLN7",
        "outputId": "87142118-a9c4-4021-c886-69543b3a7ac2"
      },
      "execution_count": 6,
      "outputs": [
        {
          "output_type": "stream",
          "name": "stdout",
          "text": [
            "Requirement already satisfied: pyspark in /usr/local/lib/python3.10/dist-packages (3.4.1)\n",
            "Requirement already satisfied: py4j==0.10.9.7 in /usr/local/lib/python3.10/dist-packages (from pyspark) (0.10.9.7)\n"
          ]
        }
      ]
    },
    {
      "cell_type": "code",
      "source": [
        "# import libraries\n",
        "import pandas as pd\n",
        "from pyspark.sql import SparkSession\n",
        "from pyspark.sql.functions import sum, col, desc, avg, mean"
      ],
      "metadata": {
        "id": "GFr0_s3EFZbz"
      },
      "execution_count": 7,
      "outputs": []
    },
    {
      "cell_type": "code",
      "source": [
        "# read excel file\n",
        "fp = \"/content/gdrive/My Drive/Colab Notebooks/Tendo/Exercise Data.xlsx\"\n",
        "sheet_names = ['encounter_e1', 'lab_e1', 'medications_e1', 'patient_e1']\n",
        "\n",
        "encounter_e1 = pd.read_excel(fp, sheet_name=sheet_names[0])\n",
        "lab_e1 = pd.read_excel(fp, sheet_name=sheet_names[1])\n",
        "medications_e1 = pd.read_excel(fp, sheet_name=sheet_names[2])\n",
        "patient_e1 = pd.read_excel(fp, sheet_name=sheet_names[3])"
      ],
      "metadata": {
        "id": "7yDI8QE4lvDo"
      },
      "execution_count": 8,
      "outputs": []
    },
    {
      "cell_type": "code",
      "source": [
        "#Create PySpark SparkSession\n",
        "spark = SparkSession.builder \\\n",
        "    .master(\"local[1]\") \\\n",
        "    .appName(\"SparkByExamples.com\") \\\n",
        "    .getOrCreate()\n",
        "#Create PySpark DataFrame from Pandas\n",
        "sparkDF_encounter_e1=spark.createDataFrame(encounter_e1)\n",
        "sparkDF_encounter_e1.show()\n",
        "sparkDF_lab_e1=spark.createDataFrame(lab_e1)\n",
        "sparkDF_lab_e1.show()\n",
        "sparkDF_medications_e1=spark.createDataFrame(medications_e1)\n",
        "sparkDF_medications_e1.show()\n",
        "sparkDF_patient_e1=spark.createDataFrame(patient_e1)\n",
        "sparkDF_patient_e1.show()"
      ],
      "metadata": {
        "colab": {
          "base_uri": "https://localhost:8080/"
        },
        "id": "MdcLjfQB0geW",
        "outputId": "90aa616c-fe54-4a3b-ada8-5b7a6b882ffb"
      },
      "execution_count": 9,
      "outputs": [
        {
          "output_type": "stream",
          "name": "stdout",
          "text": [
            "+------------+-----------+-------------------+-------------------+-------------------+--------------+-------------------------+-----------------------+-----------------------------+--------------------+-------------+-----+--------+---+---------------+--------------------+--------------+--------------------+---------------+--------------+---------------------+--------------+\n",
            "|   patientid|encounterid|     encounter_date|         admit_date|     discharge_date|reporting_year|discharge_department_name|discharge_attending_npi|discharge_attending_specialty|billing_provider_npi|attending_npi|  drg|drg_type|mdc|admit_diagnosis|     financial_class|encounter_type|    admission_source|point_of_origin|admission_type|discharge_disposition|length_of_stay|\n",
            "+------------+-----------+-------------------+-------------------+-------------------+--------------+-------------------------+-----------------------+-----------------------------+--------------------+-------------+-----+--------+---+---------------+--------------------+--------------+--------------------+---------------+--------------+---------------------+--------------+\n",
            "|111013208632|   51573853|1998-09-04 01:02:00|1998-09-04 01:02:00|               null|           NaN|                      NaN|                    NaN|                          NaN|                 NaN|          NaN|  NaN|     NaN|NaN|            NaN|                BCBS|     Inpatient|                 NaN|            NaN|           NaN|                  NaN|           NaN|\n",
            "|111013208632|  138147692|1998-09-04 14:18:00|1998-09-04 14:18:00|1998-09-04 00:00:00|        2022.0|     NMH GALTER ECHO L...|                    NaN|                          NaN|                 NaN|          NaN|  NaN|     NaN|NaN|            NaN|                BCBS|     Inpatient|                 NaN|            NaN|           NaN|                  NaN|           0.0|\n",
            "|111013213095|   48440450|1998-04-18 14:26:00|1998-04-18 14:26:00|1998-04-18 23:59:00|        2022.0|     NMH PRENTICE OBGY...|          1.861416786E9|         Obstetrics and Gy...|       1.861416786E9|1.861416786E9|  NaN|     NaN|NaN|         O09.90|Medicaid Replacement|    Outpatient|1 - Non-Health Ca...|            NaN|  3 - Elective| 01 - Discharged t...|           0.0|\n",
            "|111013213095|   50865030|1998-08-17 15:36:00|1998-08-17 15:36:00|1998-08-17 23:59:00|        2022.0|     NMH PRENTICE OBGY...|          1.457757247E9|         Obstetrics and Gy...|       1.457757247E9|1.457757247E9|  NaN|     NaN|NaN|         O09.93|Medicaid Replacement|    Outpatient|1 - Non-Health Ca...|            NaN|  3 - Elective| 01 - Discharged t...|           0.0|\n",
            "|111013213095|   51009117|1998-08-31 08:26:00|1998-08-31 08:26:00|1998-09-02 14:50:00|        2022.0|          NMH PRENTICE 13|                    NaN|                          NaN|                 NaN|          NaN|  NaN|     NaN|NaN|            NaN|Medicaid Replacement|     Inpatient|                 NaN|            NaN|           NaN|                  NaN|           2.0|\n",
            "|111013213095|  126447118|1998-04-18 14:26:00|1998-04-18 14:26:00|1998-04-18 23:59:00|        2022.0|     NMH PRENTICE OBGY...|          1.861418691E9|         Maternal Fetal Me...|       1.861418691E9|1.861418691E9|  NaN|     NaN|NaN|            NaN|Medicaid Replacement|    Outpatient|                 NaN|            NaN|           NaN|                  NaN|           0.0|\n",
            "|111013213095|  131927202|1998-08-17 15:36:00|1998-08-17 15:36:00|1998-08-17 23:59:00|        2022.0|     NMH PRENTICE OBGY...|          1.528136843E9|         Maternal Fetal Me...|       1.528136843E9|1.528136843E9|  NaN|     NaN|NaN|            NaN|Medicaid Replacement|    Outpatient|                 NaN|            NaN|           NaN|                  NaN|           0.0|\n",
            "|111013213095|  133952887|1998-08-31 08:26:00|1998-08-31 08:26:00|1998-09-02 14:50:00|        2022.0|       NMH PRENTICE 8 L&D|          1.912324302E9|               Anesthesiology|       1.912324302E9|1.912324302E9|  NaN|     NaN|NaN|            NaN|Medicaid Replacement|     Inpatient|                 NaN|            NaN|           NaN|                  NaN|           2.0|\n",
            "|111013213095|  134508388|1998-08-31 10:04:00|1998-08-31 10:04:00|1998-08-31 11:13:00|        2022.0|       NMH PRENTICE 8 L&D|                    NaN|                          NaN|                 NaN|          NaN|  NaN|     NaN|NaN|            NaN|Medicaid Replacement|     Inpatient|                 NaN|            NaN|           NaN|                  NaN|           0.0|\n",
            "|111013225659|   51373062|1998-08-23 16:03:00|1998-08-23 16:03:00|1998-08-25 16:28:00|        2022.0|        NMH FEINBERG 13 E|          1.871932905E9|            Hospital Medicine|       1.871932905E9|1.871932905E9|821.0|  MS-DRG|NaN|         C85.92|Medicaid Replacement|     Inpatient|1 - Non-Health Ca...|            NaN| 1 - Emergency| 01 - Discharged t...|           2.0|\n",
            "|111013225659|   51535953|1998-09-01 10:40:00|1998-09-01 10:40:00|               null|           NaN|                      NaN|                    NaN|                          NaN|                 NaN|          NaN|  NaN|     NaN|NaN|            NaN|Medicaid Replacement|     Inpatient|                 NaN|            NaN|           NaN|                  NaN|           NaN|\n",
            "|111013225659|  132100867|1998-08-23 16:00:00|1998-08-23 16:00:00|1998-08-25 16:28:00|        2022.0|     NMH EMERGENCY DEP...|          1.598818395E9|           Emergency Medicine|       1.598818395E9|1.598818395E9|  NaN|     NaN|NaN|            NaN|Medicaid Replacement|     Inpatient|                 NaN|            NaN|           NaN|                  NaN|           2.0|\n",
            "|111013225659|  132171972|1998-08-24 11:14:00|1998-08-24 11:14:00|1998-08-24 23:59:00|        2022.0|     NMH INTERVENTIONA...|          1.962435677E9|         Vascular and Inte...|       1.962435677E9|1.962435677E9|  NaN|     NaN|NaN|            NaN|Medicaid Replacement|     Inpatient|                 NaN|            NaN|           NaN|                  NaN|           0.0|\n",
            "|111013225659|  132206736|1998-08-25 09:17:00|1998-08-25 09:17:00|1998-08-25 23:59:00|        2022.0|     NMH GALTER ECHO L...|                    NaN|                          NaN|                 NaN|          NaN|  NaN|     NaN|NaN|            NaN|Medicaid Replacement|     Inpatient|                 NaN|            NaN|           NaN|                  NaN|           0.0|\n",
            "|111013225659|  132207253|1998-08-23 16:00:00|1998-08-23 16:00:00|1998-08-25 16:28:00|        2022.0|        NMH FEINBERG 13 E|          1.134735962E9|             Thoracic Surgery|       1.134735962E9|1.134735962E9|  NaN|     NaN|NaN|            NaN|Medicaid Replacement|     Inpatient|                 NaN|            NaN|           NaN|                  NaN|           2.0|\n",
            "|111013225659|  133608027|1998-08-23 16:03:00|1998-08-23 16:03:00|1998-08-25 16:28:00|        2022.0|        NMH FEINBERG 13 E|          1.528214855E9|         Diagnostic Neuror...|       1.528214855E9|1.528214855E9|  NaN|     NaN|NaN|            NaN|Medicaid Replacement|     Inpatient|                 NaN|            NaN|           NaN|                  NaN|           2.0|\n",
            "|111013225659|  133608175|1998-08-23 16:03:00|1998-08-23 16:03:00|1998-08-25 16:28:00|        2022.0|        NMH FEINBERG 13 E|           1.62949787E9|         Diagnostic Radiology|        1.62949787E9| 1.62949787E9|  NaN|     NaN|NaN|            NaN|Medicaid Replacement|     Inpatient|                 NaN|            NaN|           NaN|                  NaN|           2.0|\n",
            "|111013225659|  133878927|1998-08-23 16:03:00|1998-08-23 16:03:00|1998-08-25 16:28:00|        2022.0|        NMH FEINBERG 13 E|          1.053334755E9|                    Pathology|       1.053334755E9|1.053334755E9|  NaN|     NaN|NaN|            NaN|Medicaid Replacement|     Inpatient|                 NaN|            NaN|           NaN|                  NaN|           2.0|\n",
            "|111013225659|  137512905|1998-09-02 11:52:00|1998-09-02 11:52:00|1998-09-02 00:00:00|        2022.0|     NMH INTERVENTIONA...|                    NaN|                          NaN|                 NaN|          NaN|  NaN|     NaN|NaN|            NaN|Medicaid Replacement|     Inpatient|                 NaN|            NaN|           NaN|                  NaN|           0.0|\n",
            "|111013225659|  138147096|1998-09-04 09:26:00|1998-09-04 09:26:00|1998-09-04 00:00:00|        2022.0|         NMH VASCULAR LAB|                    NaN|                          NaN|                 NaN|          NaN|  NaN|     NaN|NaN|            NaN|Medicaid Replacement|     Inpatient|                 NaN|            NaN|           NaN|                  NaN|           0.0|\n",
            "+------------+-----------+-------------------+-------------------+-------------------+--------------+-------------------------+-----------------------+-----------------------------+--------------------+-------------+-----+--------+---+---------------+--------------------+--------------+--------------------+---------------+--------------+---------------------+--------------+\n",
            "only showing top 20 rows\n",
            "\n",
            "+------------+-----------+------------+--------------+------------+-------------+---------+-------------------+-------------------+-------------------+-------------+\n",
            "|   patientid|encounterid| labresultid| lab_test_name|result_value|numeric_value|ref_range|       ordered_date|     collected_date|        result_date|result_status|\n",
            "+------------+-----------+------------+--------------+------------+-------------+---------+-------------------+-------------------+-------------------+-------------+\n",
            "|111013208632|  138158282|1608683851-1|LV_EF_REPORTED|          56|           56|      NaN|1998-09-04 00:00:00|1998-09-04 00:00:00|1998-09-04 00:00:00| Final result|\n",
            "|111013208632|   51573853|1608683851-1|LV_EF_REPORTED|          56|           56|      NaN|1998-09-04 00:00:00|1998-09-04 00:00:00|1998-09-04 00:00:00| Final result|\n",
            "|111013208632|  138140574|1608683851-1|LV_EF_REPORTED|          56|           56|      NaN|1998-09-04 00:00:00|1998-09-04 00:00:00|1998-09-04 00:00:00| Final result|\n",
            "|111013225659|   51373062|1605073726-1|LV_EF_REPORTED|          55|           55|      NaN|1998-08-24 00:00:00|1998-08-25 00:00:00|1998-08-25 00:00:00| Final result|\n",
            "|111013225659|  133608175|1605073726-1|LV_EF_REPORTED|          55|           55|      NaN|1998-08-24 00:00:00|1998-08-25 00:00:00|1998-08-25 00:00:00| Final result|\n",
            "|111013225659|  133608027|1605073726-1|LV_EF_REPORTED|          55|           55|      NaN|1998-08-24 00:00:00|1998-08-25 00:00:00|1998-08-25 00:00:00| Final result|\n",
            "|111013225659|  132207253|1605073726-1|LV_EF_REPORTED|          55|           55|      NaN|1998-08-24 00:00:00|1998-08-25 00:00:00|1998-08-25 00:00:00| Final result|\n",
            "|111013225659|  132100867|1605073726-1|LV_EF_REPORTED|          55|           55|      NaN|1998-08-24 00:00:00|1998-08-25 00:00:00|1998-08-25 00:00:00| Final result|\n",
            "|111013225659|  133878927|1605073726-1|LV_EF_REPORTED|          55|           55|      NaN|1998-08-24 00:00:00|1998-08-25 00:00:00|1998-08-25 00:00:00| Final result|\n",
            "+------------+-----------+------------+--------------+------------+-------------+---------+-------------------+-------------------+-------------------+-------------+\n",
            "\n",
            "+-----------+------------+-----------------+--------------------+--------------------+------------------------------+-------------------+-------------------+-------------------+-------------------+---+-----------------+-----------+-------------+---------+--------+------------+------------+---------------+---------+------------+-------+\n",
            "|encounterid|   patientid|medicationorderid|          order_name|     medication_name|medication_simple_generic_name|         order_date|         start_date|           end_date|  discontinued_date|sig|        frequency|      route|quantity_unit|dose_unit|quantity|minimum_dose|maximum_dose|number_of_doses| cpoe_flg|         ndc| rxnorm|\n",
            "+-----------+------------+-----------------+--------------------+--------------------+------------------------------+-------------------+-------------------+-------------------+-------------------+---+-----------------+-----------+-------------+---------+--------+------------+------------+---------------+---------+------------+-------+\n",
            "|   51573853|111013208632|       1536846551|ONDANSETRON HCL (...|ONDANSETRON HCL (...|            ondansetron HCl/PF|1998-09-03 00:00:00|1998-09-03 00:00:00|1998-09-03 00:00:00|               null|NaN|             ONCE|     IVPush|          NaN|       mg|     NaN|         4.0|         NaN|            NaN|Inpatient|16729-297-30|26225.0|\n",
            "|   51573853|111013208632|       1536846549|SODIUM CHLORIDE 0...|SODIUM CHLORIDE 0...|          sodium chloride 0...|1998-09-03 00:00:00|1998-09-03 00:00:00|1998-09-03 00:00:00|               null|NaN|             ONCE|IV Infusion|          NaN|       mL|     NaN|      1000.0|         NaN|            NaN|Inpatient|         NaN|    NaN|\n",
            "|   51573853|111013208632|       1536846550|IBUPROFEN 600 MG ...|IBUPROFEN 600 MG ...|                     ibuprofen|1998-09-03 00:00:00|1998-09-03 00:00:00|1998-09-03 00:00:00|               null|NaN|             ONCE|       Oral|          NaN|       mg|     NaN|       600.0|         NaN|            NaN|Inpatient|10544-430-02| 5640.0|\n",
            "|   51573853|111013208632|       1608592620|LACTATED RINGERS ...|LACTATED RINGERS ...|           lactated ringers IV|1998-09-03 00:00:00|1998-09-03 00:00:00|1998-09-03 00:00:00|               null|NaN|             ONCE|IV Infusion|          NaN|       mL|     NaN|      1000.0|         NaN|            NaN|Inpatient|         NaN|    NaN|\n",
            "|   51573853|111013208632|       1608592639|BARIUM SULFATE   ...|BARIUM SULFATE   ...|                barium sulfate|1998-09-03 00:00:00|1998-09-03 00:00:00|1998-09-03 00:00:00|               null|NaN|             ONCE|       Oral|          NaN|       mL|     NaN|       450.0|         NaN|            NaN|Inpatient|         NaN| 1331.0|\n",
            "|   51573853|111013208632|       1608592642|LACTATED RINGERS ...|LACTATED RINGERS ...|           lactated ringers IV|1998-09-03 00:00:00|1998-09-03 00:00:00|1998-09-03 00:00:00|               null|NaN|             ONCE|IV Infusion|          NaN|       mL|     NaN|       999.0|         NaN|            NaN|Inpatient|         NaN|    NaN|\n",
            "|   51573853|111013208632|       1608592647|IOHEXOL 350 MG IO...|IOHEXOL 350 MG IO...|                       iohexol|1998-09-03 00:00:00|1998-09-03 00:00:00|1998-09-03 00:00:00|               null|NaN|         ONCE PRN|Intravenous|          NaN|       mL|     NaN|       100.0|         NaN|            NaN|Inpatient|         NaN| 5956.0|\n",
            "|   51573853|111013208632|       1608683853|ACETAMINOPHEN  32...|ACETAMINOPHEN  32...|                 acetaminophen|1998-09-04 00:00:00|1998-09-04 00:00:00|1998-09-06 00:00:00|1998-09-06 21:50:00|NaN|EVERY 6 HOURS PRN|       Oral|          NaN|       mg|     NaN|       650.0|         NaN|            NaN|Inpatient|10135-123-01|  161.0|\n",
            "|   51573853|111013208632|       1608657274|CEFAZOLIN IN DEXT...|CEFAZOLIN IN DEXT...|          cefazolin sodium/...|1998-09-04 00:00:00|1998-09-04 00:00:00|1998-09-04 00:00:00|1998-09-04 05:14:00|NaN|    EVERY 8 HOURS|       IVPB|          NaN|       mg|     NaN|      2000.0|         NaN|            NaN|Inpatient|0338-3508-41| 2180.0|\n",
            "|   51573853|111013208632|       1608657291|IBUPROFEN 600 MG ...|IBUPROFEN 600 MG ...|                     ibuprofen|1998-09-03 00:00:00|1998-09-03 00:00:00|1998-09-03 00:00:00|               null|NaN|             ONCE|       Oral|          NaN|       mg|     NaN|       600.0|         NaN|            NaN|Inpatient|10544-430-02| 5640.0|\n",
            "|   51573853|111013208632|       1608657294|CEFTRIAXONE 2 G/1...|CEFTRIAXONE 2 G/1...|                           NaN|1998-09-04 00:00:00|1998-09-04 00:00:00|1998-09-05 00:00:00|1998-09-06 00:52:00|NaN|   EVERY 24 HOURS|       IVPB|          NaN|       mg|     NaN|      2000.0|         NaN|            NaN|Inpatient|         NaN|    NaN|\n",
            "|   51573853|111013208632|       1608683856|LACTATED RINGERS ...|LACTATED RINGERS ...|          Ringer's solution...|1998-09-04 00:00:00|1998-09-04 00:00:00|1998-09-05 00:00:00|1998-09-05 19:26:00|NaN|       CONTINUOUS|IV Infusion|          NaN|    mL/hr|     NaN|       100.0|         NaN|            NaN|Inpatient|17271-710-05|    NaN|\n",
            "|   51573853|111013208632|       1608683868|ONDANSETRON 4 MG ...|ONDANSETRON 4 MG ...|                   ondansetron|1998-09-04 00:00:00|1998-09-04 00:00:00|1998-09-04 00:00:00|1998-09-04 18:05:00|NaN|             ONCE|       Oral|          NaN|       mg|     NaN|         4.0|         NaN|            NaN|Inpatient|16714-200-10|26225.0|\n",
            "|   51573853|111013208632|       1608683869|ONDANSETRON 4 MG ...|ONDANSETRON 4 MG ...|                   ondansetron|1998-09-04 00:00:00|1998-09-04 00:00:00|1998-09-04 00:00:00|               null|NaN|             ONCE|       Oral|          NaN|       mg|     NaN|         4.0|         NaN|            NaN|Inpatient|16714-200-10|26225.0|\n",
            "|   51573853|111013208632|       1608750345|GADOBUTROL 1 MMOL...|GADOBUTROL 1 MMOL...|                    gadobutrol|1998-09-04 00:00:00|1998-09-04 00:00:00|1998-09-04 00:00:00|               null|NaN|         ONCE PRN|     IVPush|          NaN|       mL|     NaN|         7.4|         NaN|            NaN|Inpatient|         NaN|84990.0|\n",
            "|   51573853|111013208632|       1536846551|ONDANSETRON HCL (...|ONDANSETRON HCL (...|            ondansetron HCl/PF|1998-09-03 00:00:00|1998-09-03 00:00:00|1998-09-03 00:00:00|               null|NaN|             ONCE|     IVPush|          NaN|       mg|     NaN|         4.0|         NaN|            NaN|Inpatient|16729-297-30|26225.0|\n",
            "|   51573853|111013208632|       1536846549|SODIUM CHLORIDE 0...|SODIUM CHLORIDE 0...|          sodium chloride 0...|1998-09-03 00:00:00|1998-09-03 00:00:00|1998-09-03 00:00:00|               null|NaN|             ONCE|IV Infusion|          NaN|       mL|     NaN|      1000.0|         NaN|            NaN|Inpatient|         NaN|    NaN|\n",
            "|   51573853|111013208632|       1536846550|IBUPROFEN 600 MG ...|IBUPROFEN 600 MG ...|                     ibuprofen|1998-09-03 00:00:00|1998-09-03 00:00:00|1998-09-03 00:00:00|               null|NaN|             ONCE|       Oral|          NaN|       mg|     NaN|       600.0|         NaN|            NaN|Inpatient|10544-430-02| 5640.0|\n",
            "|   51573853|111013208632|       1608592620|LACTATED RINGERS ...|LACTATED RINGERS ...|           lactated ringers IV|1998-09-03 00:00:00|1998-09-03 00:00:00|1998-09-03 00:00:00|               null|NaN|             ONCE|IV Infusion|          NaN|       mL|     NaN|      1000.0|         NaN|            NaN|Inpatient|         NaN|    NaN|\n",
            "|   51573853|111013208632|       1608592639|BARIUM SULFATE   ...|BARIUM SULFATE   ...|                barium sulfate|1998-09-03 00:00:00|1998-09-03 00:00:00|1998-09-03 00:00:00|               null|NaN|             ONCE|       Oral|          NaN|       mL|     NaN|       450.0|         NaN|            NaN|Inpatient|         NaN| 1331.0|\n",
            "+-----------+------------+-----------------+--------------------+--------------------+------------------------------+-------------------+-------------------+-------------------+-------------------+---+-----------------+-----------+-------------+---------+--------+------------+------------+---------------+---------+------------+-------+\n",
            "only showing top 20 rows\n",
            "\n",
            "+------------+------+--------------------+--------------------+----------+---------------------+\n",
            "|   patientid|   Sex|           ethnicity|                Race|       Age|primary_care_provider|\n",
            "+------------+------+--------------------+--------------------+----------+---------------------+\n",
            "|111013198531|Female|No, Not Hispanic,...|               White|        31|         1.70023359E9|\n",
            "|111013208632|  Male|Patient declined ...|Patient declined ...|        36|        1.619468428E9|\n",
            "|111013213095|Female|  Hispanic or Latino|   None of the above|        25|                  NaN|\n",
            "|111014123456|Female|    African American|                  30|1659717221|                  NaN|\n",
            "|111013225659|  Male|No, Not Hispanic,...|               White|        27|                  NaN|\n",
            "|111013235506|Female|No, Not Hispanic,...|               White|        31|        1.245677319E9|\n",
            "|111013238188|Female|  Hispanic or Latino|               White|        30|        1.659717221E9|\n",
            "+------------+------+--------------------+--------------------+----------+---------------------+\n",
            "\n"
          ]
        }
      ]
    },
    {
      "cell_type": "code",
      "source": [
        "df = sparkDF_patient_e1.join(sparkDF_encounter_e1,['patientid']) \\\n",
        "                  .join(sparkDF_medications_e1,['patientid','encounterid']).groupBy(sparkDF_patient_e1.patientid,'Sex','Age','primary_care_provider','medication_simple_generic_name','dose_unit','admit_diagnosis') \\\n",
        "                  .agg(avg('minimum_dose').alias('avg_minimum_dose')).sort(desc(sparkDF_patient_e1.patientid))"
      ],
      "metadata": {
        "id": "2LTlk7nOKJAa"
      },
      "execution_count": 10,
      "outputs": []
    },
    {
      "cell_type": "code",
      "source": [
        "df.show(df.count(), False)"
      ],
      "metadata": {
        "colab": {
          "base_uri": "https://localhost:8080/"
        },
        "id": "K0tp6-Y2WMo1",
        "outputId": "62796595-7c18-40ab-834c-012babef3bb8"
      },
      "execution_count": 11,
      "outputs": [
        {
          "output_type": "stream",
          "name": "stdout",
          "text": [
            "+------------+------+---+---------------------+------------------------------+---------------+---------------+------------------+\n",
            "|patientid   |Sex   |Age|primary_care_provider|medication_simple_generic_name|dose_unit      |admit_diagnosis|avg_minimum_dose  |\n",
            "+------------+------+---+---------------------+------------------------------+---------------+---------------+------------------+\n",
            "|111013238188|Female|30 |1.659717221E9        |misoprostol                   |mcg            |O99.344        |25.0              |\n",
            "|111013238188|Female|30 |1.659717221E9        |terbutaline sulfate           |mg             |O99.344        |0.25              |\n",
            "|111013238188|Female|30 |1.659717221E9        |fentanyl/bupivacaine/NS/PF    |NaN            |O99.344        |NaN               |\n",
            "|111013238188|Female|30 |1.659717221E9        |docusate sodium               |mg             |O99.344        |100.0             |\n",
            "|111013238188|Female|30 |1.659717221E9        |prenatal vit no.130/iron/folic|tablet         |O99.344        |1.0               |\n",
            "|111013238188|Female|30 |1.659717221E9        |simethicone                   |mg             |O99.344        |80.0              |\n",
            "|111013238188|Female|30 |1.659717221E9        |acetaminophen                 |mg             |O99.344        |1000.0            |\n",
            "|111013238188|Female|30 |1.659717221E9        |glycerin/witch hazel          |Application    |O99.344        |1.0               |\n",
            "|111013238188|Female|30 |1.659717221E9        |diphenhydramine HCl           |mg             |O99.344        |25.0              |\n",
            "|111013238188|Female|30 |1.659717221E9        |modified lanolin              |Application    |O99.344        |1.0               |\n",
            "|111013238188|Female|30 |1.659717221E9        |oxytocin/0.9 % sodium chloride|milli-units/min|O99.344        |31.0              |\n",
            "|111013238188|Female|30 |1.659717221E9        |ibuprofen                     |mg             |O99.344        |600.0             |\n",
            "|111013238188|Female|30 |1.659717221E9        |ondansetron HCl/PF            |mg             |O99.344        |4.0               |\n",
            "|111013238188|Female|30 |1.659717221E9        |bupivacaine HCl/PF            |NaN            |O99.344        |NaN               |\n",
            "|111013238188|Female|30 |1.659717221E9        |fentanyl citrate/PF           |NaN            |O99.344        |NaN               |\n",
            "|111013238188|Female|30 |1.659717221E9        |phenylephrine HCl in 0.9% NaCl|NaN            |O99.344        |NaN               |\n",
            "|111013238188|Female|30 |1.659717221E9        |magnesium hydroxide           |mL             |O99.344        |30.0              |\n",
            "|111013238188|Female|30 |1.659717221E9        |Ringer's solution,lactated    |NaN            |O99.344        |NaN               |\n",
            "|111013238188|Female|30 |1.659717221E9        |benzocaine                    |spray          |O99.344        |1.0               |\n",
            "|111013238188|Female|30 |1.659717221E9        |NaN                           |mg             |O99.344        |500.0             |\n",
            "|111013238188|Female|30 |1.659717221E9        |lactated ringers IV           |mL             |O99.344        |250.0             |\n",
            "|111013238188|Female|30 |1.659717221E9        |bisacodyl                     |mg             |O99.344        |10.0              |\n",
            "|111013238188|Female|30 |1.659717221E9        |lidocaine HCl/epinephrine/PF  |NaN            |O99.344        |NaN               |\n",
            "|111013238188|Female|30 |1.659717221E9        |lidocaine HCl/PF              |mL             |O99.344        |0.25              |\n",
            "|111013235506|Female|31 |1.245677319E9        |simethicone                   |mg             |NaN            |80.0              |\n",
            "|111013235506|Female|31 |1.245677319E9        |magnesium hydroxide           |mL             |NaN            |30.0              |\n",
            "|111013235506|Female|31 |1.245677319E9        |cefazolin sodium/dextrose,iso |mg             |NaN            |2000.0            |\n",
            "|111013235506|Female|31 |1.245677319E9        |glycerin/witch hazel          |Application    |NaN            |1.0               |\n",
            "|111013235506|Female|31 |1.245677319E9        |diphenhydramine HCl           |mg             |NaN            |25.0              |\n",
            "|111013235506|Female|31 |1.245677319E9        |acetaminophen                 |mg             |NaN            |1000.0            |\n",
            "|111013235506|Female|31 |1.245677319E9        |NaN                           |mg             |NaN            |500.0             |\n",
            "|111013235506|Female|31 |1.245677319E9        |Ringer's solution,lactated    |NaN            |NaN            |NaN               |\n",
            "|111013235506|Female|31 |1.245677319E9        |benzocaine                    |spray          |NaN            |1.0               |\n",
            "|111013235506|Female|31 |1.245677319E9        |terbutaline sulfate           |mg             |NaN            |0.25              |\n",
            "|111013235506|Female|31 |1.245677319E9        |docusate sodium               |mg             |NaN            |100.0             |\n",
            "|111013235506|Female|31 |1.245677319E9        |bisacodyl                     |mg             |NaN            |10.0              |\n",
            "|111013235506|Female|31 |1.245677319E9        |lidocaine HCl/epinephrine/PF  |NaN            |NaN            |NaN               |\n",
            "|111013235506|Female|31 |1.245677319E9        |naloxone HCl                  |mg             |NaN            |0.2               |\n",
            "|111013235506|Female|31 |1.245677319E9        |modified lanolin              |Application    |NaN            |1.0               |\n",
            "|111013235506|Female|31 |1.245677319E9        |fentanyl citrate/PF           |NaN            |NaN            |NaN               |\n",
            "|111013235506|Female|31 |1.245677319E9        |bupivacaine HCl/PF            |NaN            |NaN            |NaN               |\n",
            "|111013235506|Female|31 |1.245677319E9        |oxytocin/0.9 % sodium chloride|milli-units/min|NaN            |31.0              |\n",
            "|111013235506|Female|31 |1.245677319E9        |lactated ringers IV           |mL             |NaN            |375.0             |\n",
            "|111013235506|Female|31 |1.245677319E9        |ondansetron HCl/PF            |mg             |NaN            |4.0               |\n",
            "|111013235506|Female|31 |1.245677319E9        |prenatal vit no.130/iron/folic|tablet         |NaN            |1.0               |\n",
            "|111013235506|Female|31 |1.245677319E9        |fentanyl/bupivacaine/NS/PF    |NaN            |NaN            |NaN               |\n",
            "|111013235506|Female|31 |1.245677319E9        |ibuprofen                     |mg             |NaN            |600.0             |\n",
            "|111013225659|Male  |27 |NaN                  |epinephrine                   |mg             |NaN            |0.3               |\n",
            "|111013225659|Male  |27 |NaN                  |famotidine/PF                 |mg             |NaN            |20.0              |\n",
            "|111013225659|Male  |27 |NaN                  |polyethylene glycol 3350      |g              |NaN            |17.0              |\n",
            "|111013225659|Male  |27 |NaN                  |prednisone                    |mg             |NaN            |220.0             |\n",
            "|111013225659|Male  |27 |NaN                  |sennosides                    |tablet         |NaN            |2.0               |\n",
            "|111013225659|Male  |27 |NaN                  |hydrocortisone sodium succ/PF |mg             |NaN            |100.0             |\n",
            "|111013225659|Male  |27 |NaN                  |ondansetron HCl/PF            |mg             |NaN            |8.0               |\n",
            "|111013225659|Male  |27 |NaN                  |prochlorperazine edisylate    |mg             |NaN            |10.0              |\n",
            "|111013225659|Male  |27 |NaN                  |sennosides/docusate sodium    |tablet         |NaN            |1.0               |\n",
            "|111013225659|Male  |27 |NaN                  |potassium chloride            |mEq            |NaN            |40.0              |\n",
            "|111013225659|Male  |27 |NaN                  |pantoprazole sodium           |mg             |NaN            |20.0              |\n",
            "|111013225659|Male  |27 |NaN                  |acetaminophen                 |mg             |NaN            |650.0             |\n",
            "|111013225659|Male  |27 |NaN                  |diphenhydramine HCl           |mg             |NaN            |50.0              |\n",
            "|111013225659|Male  |27 |NaN                  |lidocaine HCl                 |NaN            |NaN            |NaN               |\n",
            "|111013225659|Male  |27 |NaN                  |meperidine HCl/PF             |mg             |NaN            |25.0              |\n",
            "|111013225659|Male  |27 |NaN                  |enoxaparin sodium             |mg             |NaN            |50.0              |\n",
            "|111013225659|Male  |27 |NaN                  |methylprednisolone sod succ/PF|mg             |NaN            |125.0             |\n",
            "|111013225659|Male  |27 |NaN                  |hydrocodone/acetaminophen     |tablet         |NaN            |1.0               |\n",
            "|111013225659|Male  |27 |NaN                  |sulfamethoxazole/trimethoprim |tablet         |NaN            |1.0               |\n",
            "|111013225659|Male  |27 |NaN                  |0.9 % sodium chloride         |NaN            |NaN            |NaN               |\n",
            "|111013225659|Male  |27 |NaN                  |ondansetron                   |mg             |NaN            |8.0               |\n",
            "|111013225659|Male  |27 |NaN                  |furosemide                    |mg             |NaN            |20.0              |\n",
            "|111013225659|Male  |27 |NaN                  |lorazepam                     |mg             |NaN            |0.6666666666666666|\n",
            "|111013225659|Male  |27 |NaN                  |heparin sodium,porcine        |NaN            |NaN            |NaN               |\n",
            "|111013225659|Male  |27 |NaN                  |allopurinol                   |mg             |NaN            |300.0             |\n",
            "|111013225659|Male  |27 |NaN                  |sodium chloride 0.9 % IV      |mL             |NaN            |1000.0            |\n",
            "|111013225659|Male  |27 |NaN                  |apixaban                      |mg             |NaN            |5.0               |\n",
            "|111013225659|Male  |27 |NaN                  |lidocaine HCl                 |mL             |NaN            |10.0              |\n",
            "|111013225659|Male  |27 |NaN                  |prochlorperazine maleate      |mg             |NaN            |10.0              |\n",
            "|111013213095|Female|25 |NaN                  |epinephrine                   |NaN            |NaN            |NaN               |\n",
            "|111013213095|Female|25 |NaN                  |prenatal vit no.130/iron/folic|tablet         |NaN            |1.0               |\n",
            "|111013213095|Female|25 |NaN                  |metoclopramide HCl            |mg             |NaN            |10.0              |\n",
            "|111013213095|Female|25 |NaN                  |fentanyl citrate/PF           |NaN            |NaN            |NaN               |\n",
            "|111013213095|Female|25 |NaN                  |enoxaparin sodium             |mg             |NaN            |40.0              |\n",
            "|111013213095|Female|25 |NaN                  |lactated ringers IV           |mL             |NaN            |624.5             |\n",
            "|111013213095|Female|25 |NaN                  |dexamethasone sodium phosphate|NaN            |NaN            |NaN               |\n",
            "|111013213095|Female|25 |NaN                  |simethicone                   |mg             |NaN            |80.0              |\n",
            "|111013213095|Female|25 |NaN                  |ketorolac tromethamine        |NaN            |NaN            |NaN               |\n",
            "|111013213095|Female|25 |NaN                  |bisacodyl                     |mg             |NaN            |10.0              |\n",
            "|111013213095|Female|25 |NaN                  |acetaminophen                 |mg             |NaN            |1000.0            |\n",
            "|111013213095|Female|25 |NaN                  |phenylephrine HCl in 0.9% NaCl|NaN            |NaN            |NaN               |\n",
            "|111013213095|Female|25 |NaN                  |ondansetron HCl/PF            |NaN            |NaN            |NaN               |\n",
            "|111013213095|Female|25 |NaN                  |oxytocin/0.9 % sodium chloride|milli-units/min|NaN            |60.0              |\n",
            "|111013213095|Female|25 |NaN                  |prochlorperazine edisylate    |mg             |NaN            |10.0              |\n",
            "|111013213095|Female|25 |NaN                  |modified lanolin              |Application    |NaN            |1.0               |\n",
            "|111013213095|Female|25 |NaN                  |lidocaine HCl/PF              |NaN            |NaN            |NaN               |\n",
            "|111013213095|Female|25 |NaN                  |oxycodone HCl                 |mg             |NaN            |5.0               |\n",
            "|111013213095|Female|25 |NaN                  |ephedrine sulfate/0.9% NaCl/PF|NaN            |NaN            |NaN               |\n",
            "|111013213095|Female|25 |NaN                  |misoprostol                   |NaN            |NaN            |NaN               |\n",
            "|111013213095|Female|25 |NaN                  |prochlorperazine edisylate    |NaN            |NaN            |NaN               |\n",
            "|111013213095|Female|25 |NaN                  |famotidine/PF                 |NaN            |NaN            |NaN               |\n",
            "|111013213095|Female|25 |NaN                  |magnesium hydroxide           |mL             |NaN            |30.0              |\n",
            "|111013213095|Female|25 |NaN                  |ketorolac tromethamine        |mg             |NaN            |30.0              |\n",
            "|111013213095|Female|25 |NaN                  |diphenhydramine HCl           |mg             |NaN            |25.0              |\n",
            "|111013213095|Female|25 |NaN                  |Ringer's solution,lactated    |NaN            |NaN            |NaN               |\n",
            "|111013213095|Female|25 |NaN                  |ondansetron HCl/PF            |mg             |NaN            |4.0               |\n",
            "|111013213095|Female|25 |NaN                  |propofol                      |NaN            |NaN            |NaN               |\n",
            "|111013213095|Female|25 |NaN                  |oxytocin/0.9 % sodium chloride|NaN            |NaN            |NaN               |\n",
            "|111013213095|Female|25 |NaN                  |cefazolin sodium/dextrose,iso |mg             |NaN            |2000.0            |\n",
            "|111013213095|Female|25 |NaN                  |docusate sodium               |mg             |NaN            |100.0             |\n",
            "|111013213095|Female|25 |NaN                  |ibuprofen                     |mg             |NaN            |600.0             |\n",
            "|111013213095|Female|25 |NaN                  |dexamethasone sodium phosphate|mg             |NaN            |4.0               |\n",
            "|111013208632|Male  |36 |1.619468428E9        |lactated ringers IV           |mL             |NaN            |999.5             |\n",
            "|111013208632|Male  |36 |1.619468428E9        |iohexol                       |mL             |NaN            |100.0             |\n",
            "|111013208632|Male  |36 |1.619468428E9        |ondansetron HCl/PF            |mg             |NaN            |4.0               |\n",
            "|111013208632|Male  |36 |1.619468428E9        |gadobutrol                    |mL             |NaN            |7.4               |\n",
            "|111013208632|Male  |36 |1.619468428E9        |barium sulfate                |mL             |NaN            |450.0             |\n",
            "|111013208632|Male  |36 |1.619468428E9        |NaN                           |mg             |NaN            |2000.0            |\n",
            "|111013208632|Male  |36 |1.619468428E9        |sodium chloride 0.9 % IV      |mL             |NaN            |1000.0            |\n",
            "|111013208632|Male  |36 |1.619468428E9        |Ringer's solution,lactated    |mL/hr          |NaN            |100.0             |\n",
            "|111013208632|Male  |36 |1.619468428E9        |acetaminophen                 |mg             |NaN            |650.0             |\n",
            "|111013208632|Male  |36 |1.619468428E9        |ondansetron                   |mg             |NaN            |4.0               |\n",
            "|111013208632|Male  |36 |1.619468428E9        |cefazolin sodium/dextrose,iso |mg             |NaN            |2000.0            |\n",
            "|111013208632|Male  |36 |1.619468428E9        |ibuprofen                     |mg             |NaN            |600.0             |\n",
            "|111013198531|Female|31 |1.70023359E9         |cefazolin sodium/dextrose,iso |mg             |NaN            |2000.0            |\n",
            "|111013198531|Female|31 |1.70023359E9         |lidocaine HCl/PF              |NaN            |NaN            |NaN               |\n",
            "|111013198531|Female|31 |1.70023359E9         |diphenhydramine HCl           |mg             |NaN            |25.0              |\n",
            "|111013198531|Female|31 |1.70023359E9         |fentanyl/bupivacaine/NS/PF    |NaN            |NaN            |NaN               |\n",
            "|111013198531|Female|31 |1.70023359E9         |bupivacaine HCl/PF            |NaN            |NaN            |NaN               |\n",
            "|111013198531|Female|31 |1.70023359E9         |glycerin/witch hazel          |Application    |NaN            |1.0               |\n",
            "|111013198531|Female|31 |1.70023359E9         |simethicone                   |mg             |NaN            |80.0              |\n",
            "|111013198531|Female|31 |1.70023359E9         |benzocaine                    |spray          |NaN            |1.0               |\n",
            "|111013198531|Female|31 |1.70023359E9         |oxytocin/0.9 % sodium chloride|milli-units/min|NaN            |2.0               |\n",
            "|111013198531|Female|31 |1.70023359E9         |docusate sodium               |mg             |NaN            |100.0             |\n",
            "|111013198531|Female|31 |1.70023359E9         |Ringer's solution,lactated    |NaN            |NaN            |NaN               |\n",
            "|111013198531|Female|31 |1.70023359E9         |acetaminophen                 |mg             |NaN            |1000.0            |\n",
            "|111013198531|Female|31 |1.70023359E9         |ibuprofen                     |mg             |NaN            |600.0             |\n",
            "|111013198531|Female|31 |1.70023359E9         |lidocaine HCl/epinephrine/PF  |NaN            |NaN            |NaN               |\n",
            "|111013198531|Female|31 |1.70023359E9         |modified lanolin              |Application    |NaN            |1.0               |\n",
            "|111013198531|Female|31 |1.70023359E9         |fentanyl citrate/PF           |NaN            |NaN            |NaN               |\n",
            "|111013198531|Female|31 |1.70023359E9         |NaN                           |mg             |NaN            |500.0             |\n",
            "|111013198531|Female|31 |1.70023359E9         |hydromorphone HCl             |mg             |NaN            |1.0               |\n",
            "|111013198531|Female|31 |1.70023359E9         |lactated ringers IV           |mL             |NaN            |999.0             |\n",
            "|111013198531|Female|31 |1.70023359E9         |misoprostol                   |mcg            |NaN            |25.0              |\n",
            "|111013198531|Female|31 |1.70023359E9         |ondansetron HCl/PF            |mg             |NaN            |4.0               |\n",
            "+------------+------+---+---------------------+------------------------------+---------------+---------------+------------------+\n",
            "\n"
          ]
        }
      ]
    },
    {
      "cell_type": "code",
      "source": [
        "from datetime import datetime\n",
        "filepath = \"/content/gdrive/My Drive/Colab Notebooks/Tendo/\"\n",
        "filename = r\"target_1_\" + datetime.now().strftime(\"%Y%m%d\") + \".txt\"\n",
        "df.toPandas().to_csv(filepath+filename, header=True, index=None, sep='|', mode='a', encoding = 'utf-8', quotechar='\"', line_terminator=\"\")"
      ],
      "metadata": {
        "id": "0C3cl2LrlJAs"
      },
      "execution_count": 12,
      "outputs": []
    }
  ]
}